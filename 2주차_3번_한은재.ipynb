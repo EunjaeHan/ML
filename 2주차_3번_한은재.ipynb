{
  "nbformat": 4,
  "nbformat_minor": 0,
  "metadata": {
    "colab": {
      "provenance": [],
      "authorship_tag": "ABX9TyPV9fFPXjBD7wwDhmWYGLH1",
      "include_colab_link": true
    },
    "kernelspec": {
      "name": "python3",
      "display_name": "Python 3"
    },
    "language_info": {
      "name": "python"
    }
  },
  "cells": [
    {
      "cell_type": "markdown",
      "metadata": {
        "id": "view-in-github",
        "colab_type": "text"
      },
      "source": [
        "<a href=\"https://colab.research.google.com/github/EunjaeHan/ML/blob/main/2%EC%A3%BC%EC%B0%A8_3%EB%B2%88_%ED%95%9C%EC%9D%80%EC%9E%AC.ipynb\" target=\"_parent\"><img src=\"https://colab.research.google.com/assets/colab-badge.svg\" alt=\"Open In Colab\"/></a>"
      ]
    },
    {
      "cell_type": "markdown",
      "source": [
        "# 2주차 과제\n",
        "3. car evaluation DT, RF, LR 분류하기"
      ],
      "metadata": {
        "id": "_Nwd-k0T_j46"
      }
    },
    {
      "cell_type": "code",
      "execution_count": 1,
      "metadata": {
        "colab": {
          "base_uri": "https://localhost:8080/"
        },
        "id": "NNQP8nBy_ewX",
        "outputId": "62d30a9b-b415-48a5-9ceb-c2f4859b30b4"
      },
      "outputs": [
        {
          "output_type": "stream",
          "name": "stdout",
          "text": [
            "Mounted at /content/drive\n"
          ]
        }
      ],
      "source": [
        "from google.colab import drive\n",
        "drive.mount('/content/drive')"
      ]
    },
    {
      "cell_type": "code",
      "source": [
        "import pandas as pd\n",
        "\n",
        "from sklearn.tree import DecisionTreeClassifier\n",
        "from sklearn.ensemble import RandomForestClassifier\n",
        "from sklearn.linear_model import LogisticRegression\n",
        "from sklearn.model_selection import train_test_split\n",
        "from sklearn.preprocessing import LabelEncoder\n",
        "from sklearn.metrics import accuracy_score"
      ],
      "metadata": {
        "id": "CDahwQiq_kO4"
      },
      "execution_count": 2,
      "outputs": []
    },
    {
      "cell_type": "code",
      "source": [
        "# 데이터 불러오기\n",
        "car = pd.read_csv(\"/content/drive/MyDrive/Colab Notebooks/car_evaluation.csv\", header=None)"
      ],
      "metadata": {
        "id": "2jEE3NZB_4BD"
      },
      "execution_count": 7,
      "outputs": []
    },
    {
      "cell_type": "code",
      "source": [
        "# 컬럼 이름 설정\n",
        "car.columns = ['buying', 'maint', 'doors', 'persons', 'lug_boot', 'safety', 'class']"
      ],
      "metadata": {
        "id": "C92l0_DUA1nH"
      },
      "execution_count": 8,
      "outputs": []
    },
    {
      "cell_type": "code",
      "source": [
        "# 데이터 전처리\n",
        "# 모든 컬럼이 문자열(categorical)이므로 숫자로 변환\n",
        "for col in car.columns:\n",
        "    le = LabelEncoder()\n",
        "    car[col] = le.fit_transform(car[col])"
      ],
      "metadata": {
        "id": "Rsvtt51qBAQK"
      },
      "execution_count": 10,
      "outputs": []
    },
    {
      "cell_type": "code",
      "source": [
        "# 피처(X)와 타겟(y) 분리\n",
        "X = car.drop('class', axis=1)\n",
        "y = car['class']"
      ],
      "metadata": {
        "id": "iy9WSoXLBDle"
      },
      "execution_count": 12,
      "outputs": []
    },
    {
      "cell_type": "code",
      "source": [
        "# 학습 및 테스트 데이터 분리\n",
        "X_train, X_test, y_train, y_test = train_test_split(X, y, test_size=0.2, random_state=42)"
      ],
      "metadata": {
        "id": "uECv0KUqBJY9"
      },
      "execution_count": 13,
      "outputs": []
    },
    {
      "cell_type": "code",
      "source": [
        "# 모델 학습 및 예측\n",
        "# Decision Tree\n",
        "dt = DecisionTreeClassifier(random_state=42)\n",
        "dt.fit(X_train, y_train)\n",
        "dt_pred = dt.predict(X_test)\n",
        "dt_acc = accuracy_score(y_test, dt_pred)\n",
        "\n",
        "# Random Forest\n",
        "rf = RandomForestClassifier(n_estimators=100, random_state=42)\n",
        "rf.fit(X_train, y_train)\n",
        "rf_pred = rf.predict(X_test)\n",
        "rf_acc = accuracy_score(y_test, rf_pred)\n",
        "\n",
        "# Logistic Regression\n",
        "lr = LogisticRegression(max_iter=5000, random_state=42)\n",
        "lr.fit(X_train, y_train)\n",
        "lr_pred = lr.predict(X_test)\n",
        "lr_acc = accuracy_score(y_test, lr_pred)"
      ],
      "metadata": {
        "id": "ut4jEf8OBMTa"
      },
      "execution_count": 15,
      "outputs": []
    },
    {
      "cell_type": "code",
      "source": [
        "# 모델 평가 결과 출력\n",
        "print(\"=== 모델별 테스트 정확도 ===\")\n",
        "print(f\"Decision Tree : {dt_acc:.4f}\")\n",
        "print(f\"Random Forest : {rf_acc:.4f}\")\n",
        "print(f\"Logistic Reg. : {lr_acc:.4f}\")"
      ],
      "metadata": {
        "id": "dOdTk5Q5BSk6",
        "outputId": "1575922f-eebd-423d-a01d-0c3b81b2d13f",
        "colab": {
          "base_uri": "https://localhost:8080/"
        }
      },
      "execution_count": 17,
      "outputs": [
        {
          "output_type": "stream",
          "name": "stdout",
          "text": [
            "=== 모델별 테스트 정확도 ===\n",
            "Decision Tree : 0.9769\n",
            "Random Forest : 0.9653\n",
            "Logistic Reg. : 0.6850\n"
          ]
        }
      ]
    }
  ]
}