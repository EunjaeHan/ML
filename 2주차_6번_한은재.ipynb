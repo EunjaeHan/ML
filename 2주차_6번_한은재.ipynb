{
  "nbformat": 4,
  "nbformat_minor": 0,
  "metadata": {
    "colab": {
      "provenance": [],
      "authorship_tag": "ABX9TyP5J+ruH2L+33x0wO1qQGcL",
      "include_colab_link": true
    },
    "kernelspec": {
      "name": "python3",
      "display_name": "Python 3"
    },
    "language_info": {
      "name": "python"
    }
  },
  "cells": [
    {
      "cell_type": "markdown",
      "metadata": {
        "id": "view-in-github",
        "colab_type": "text"
      },
      "source": [
        "<a href=\"https://colab.research.google.com/github/EunjaeHan/ML/blob/main/2%EC%A3%BC%EC%B0%A8_6%EB%B2%88_%ED%95%9C%EC%9D%80%EC%9E%AC.ipynb\" target=\"_parent\"><img src=\"https://colab.research.google.com/assets/colab-badge.svg\" alt=\"Open In Colab\"/></a>"
      ]
    },
    {
      "cell_type": "markdown",
      "source": [
        "# 2주차 과제\n",
        "6. 당뇨병(diabetes) 에서 Outcome 삭제 후 BMI 예측하기  (회귀)"
      ],
      "metadata": {
        "id": "ZYGgqULQLUeV"
      }
    },
    {
      "cell_type": "code",
      "execution_count": 1,
      "metadata": {
        "colab": {
          "base_uri": "https://localhost:8080/"
        },
        "id": "bVQG9lUEB5Ev",
        "outputId": "84a80f26-6a77-4f36-fdf4-99e1bfae61b1"
      },
      "outputs": [
        {
          "output_type": "stream",
          "name": "stdout",
          "text": [
            "Mounted at /content/drive\n"
          ]
        }
      ],
      "source": [
        "from google.colab import drive\n",
        "drive.mount('/content/drive')"
      ]
    },
    {
      "cell_type": "code",
      "source": [
        "import pandas as pd\n",
        "import numpy as np\n",
        "from sklearn.model_selection import train_test_split\n",
        "from sklearn.tree import DecisionTreeRegressor\n",
        "from sklearn.ensemble import RandomForestRegressor\n",
        "from sklearn.linear_model import LinearRegression\n",
        "from sklearn.metrics import mean_absolute_error, mean_squared_error, r2_score"
      ],
      "metadata": {
        "id": "hIP4hpsQMznJ"
      },
      "execution_count": 4,
      "outputs": []
    },
    {
      "cell_type": "code",
      "source": [
        "# 데이터 불러오기\n",
        "db = pd.read_csv(\"/content/drive/MyDrive/Colab Notebooks/diabetes.csv\")"
      ],
      "metadata": {
        "id": "uFi_UT29M0rd"
      },
      "execution_count": 5,
      "outputs": []
    },
    {
      "cell_type": "code",
      "source": [
        "# 피처(X)와 타겟(y) 분리 및 Outcome 컬럼 삭제\n",
        "# 'Outcome' 컬럼을 데이터셋에서 완전히 제외\n",
        "# 'BMI'를 예측할 타겟 변수(y)로 지정\n",
        "X = db.drop(['Outcome', 'BMI'], axis=1)\n",
        "y = db['BMI']"
      ],
      "metadata": {
        "id": "LDbQ6r60M0l8"
      },
      "execution_count": 15,
      "outputs": []
    },
    {
      "cell_type": "code",
      "source": [
        "# 학습 및 테스트 데이터 분리\n",
        "X_train, X_test, y_train, y_test = train_test_split(X, y, test_size=0.2, random_state=42)"
      ],
      "metadata": {
        "id": "nEkDSD8xM0jn"
      },
      "execution_count": 16,
      "outputs": []
    },
    {
      "cell_type": "code",
      "source": [
        "# 모델 학습 및 예측\n",
        "# Decision Tree Regressor\n",
        "dt_reg = DecisionTreeRegressor(random_state=42)\n",
        "dt_reg.fit(X_train, y_train)\n",
        "dt_pred = dt_reg.predict(X_test)\n",
        "\n",
        "# Random Forest Regressor\n",
        "rf_reg = RandomForestRegressor(n_estimators=100, random_state=42)\n",
        "rf_reg.fit(X_train, y_train)\n",
        "rf_pred = rf_reg.predict(X_test)\n",
        "\n",
        "# Linear Regression\n",
        "lr_reg = LinearRegression()\n",
        "lr_reg.fit(X_train, y_train)\n",
        "lr_pred = lr_reg.predict(X_test)"
      ],
      "metadata": {
        "id": "_LX4nvN1M0gN"
      },
      "execution_count": 17,
      "outputs": []
    },
    {
      "cell_type": "code",
      "source": [
        "# 모델 평가\n",
        "def eval_reg_metrics(y_true, y_pred):\n",
        "    mae = mean_absolute_error(y_true, y_pred)\n",
        "    rmse = np.sqrt(mean_squared_error(y_true, y_pred))\n",
        "    r2 = r2_score(y_true, y_pred)\n",
        "    return mae, rmse, r2\n",
        "\n",
        "dt_mae, dt_rmse, dt_r2 = eval_reg_metrics(y_test, dt_pred)\n",
        "rf_mae, rf_rmse, rf_r2 = eval_reg_metrics(y_test, rf_pred)\n",
        "lr_mae, lr_rmse, lr_r2 = eval_reg_metrics(y_test, lr_pred)"
      ],
      "metadata": {
        "id": "4CBK4DtoNQ-h"
      },
      "execution_count": 18,
      "outputs": []
    },
    {
      "cell_type": "code",
      "source": [
        "# 결과 출력\n",
        "print(\"=== 당뇨병 BMI 예측 모델 평가 ===\")\n",
        "print(\"[Decision Tree Regressor]\")\n",
        "print(f\"MAE: {dt_mae:.3f} | RMSE: {dt_rmse:.3f} | R^2: {dt_r2:.3f}\")\n",
        "print(\"\\n[Random Forest Regressor]\")\n",
        "print(f\"MAE: {rf_mae:.3f} | RMSE: {rf_rmse:.3f} | R^2: {rf_r2:.3f}\")\n",
        "print(\"\\n[Linear Regression]\")\n",
        "print(f\"MAE: {lr_mae:.3f} | RMSE: {lr_rmse:.3f} | R^2: {lr_r2:.3f}\")"
      ],
      "metadata": {
        "colab": {
          "base_uri": "https://localhost:8080/"
        },
        "id": "qvfr9SKbNTdE",
        "outputId": "7b804528-8eb5-46dc-91bb-814fa3c7ca92"
      },
      "execution_count": 19,
      "outputs": [
        {
          "output_type": "stream",
          "name": "stdout",
          "text": [
            "=== 당뇨병 BMI 예측 모델 평가 ===\n",
            "[Decision Tree Regressor]\n",
            "MAE: 7.251 | RMSE: 10.204 | R^2: -0.465\n",
            "\n",
            "[Random Forest Regressor]\n",
            "MAE: 5.211 | RMSE: 6.907 | R^2: 0.329\n",
            "\n",
            "[Linear Regression]\n",
            "MAE: 5.211 | RMSE: 7.228 | R^2: 0.265\n"
          ]
        }
      ]
    }
  ]
}