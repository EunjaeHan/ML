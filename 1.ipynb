{
  "nbformat": 4,
  "nbformat_minor": 0,
  "metadata": {
    "colab": {
      "provenance": [],
      "authorship_tag": "ABX9TyMTEBnYxMv2c/tN4FYVRSLO",
      "include_colab_link": true
    },
    "kernelspec": {
      "name": "python3",
      "display_name": "Python 3"
    },
    "language_info": {
      "name": "python"
    }
  },
  "cells": [
    {
      "cell_type": "markdown",
      "metadata": {
        "id": "view-in-github",
        "colab_type": "text"
      },
      "source": [
        "<a href=\"https://colab.research.google.com/github/EunjaeHan/Stella/blob/main/1.ipynb\" target=\"_parent\"><img src=\"https://colab.research.google.com/assets/colab-badge.svg\" alt=\"Open In Colab\"/></a>"
      ]
    },
    {
      "cell_type": "code",
      "execution_count": null,
      "metadata": {
        "colab": {
          "base_uri": "https://localhost:8080/"
        },
        "id": "hkWtcm-4ikYo",
        "outputId": "cd7bf833-8c5b-4ba8-f63f-1ec760b81e75"
      },
      "outputs": [
        {
          "output_type": "stream",
          "name": "stdout",
          "text": [
            "HP\n"
          ]
        }
      ],
      "source": [
        "print(\"HP\")"
      ]
    },
    {
      "cell_type": "code",
      "source": [
        "smelt_length=[9.8, 10.5, 10.6, 11.0, 11.2, 11.3, 11.8, 11.8, 12.0, 12.2, 12.4, 13.0, 14.3, 15.0]\n",
        "smelt_weight=[6.7, 7.8]"
      ],
      "metadata": {
        "id": "gtrupushm74X"
      },
      "execution_count": null,
      "outputs": []
    },
    {
      "cell_type": "code",
      "source": [
        "import matplotlib.pyplot as plt\n",
        "\n",
        "plt.scatter(bream_length, bream_weight)\n",
        "plt.xlabel('length')\n",
        "plt.ylabel('weight')\n",
        "plt.show()"
      ],
      "metadata": {
        "id": "n2SGsDc2oE7k"
      },
      "execution_count": null,
      "outputs": []
    },
    {
      "cell_type": "markdown",
      "source": [
        "왜 코랩인가?\n",
        "프로그래밍을 하기 위해서는 기본적으로 특정 언어와 그 언어를 사용하는\n",
        "각자 가지고 있는 실습 환경이 다르고 프로그램 버전에 따라\n",
        "\n",
        "\n",
        "도미는 30cm 이상\n",
        "\n",
        "이진 분류(binary classfication)\n",
        "분류: 머신러닝에서\n",
        "2개의 클래스 중 하나를 고르는 문제\n",
        "\n"
      ],
      "metadata": {
        "id": "OrBNqOI7jIL8"
      }
    },
    {
      "cell_type": "markdown",
      "source": [
        "두 특성을 숫자로 보는 것보다 그래프로 표현하면 데이터를"
      ],
      "metadata": {
        "id": "KXFy4-DAmSKo"
      }
    },
    {
      "cell_type": "markdown",
      "source": [
        "사이킷런 머신러닝 패키지는 각 특성의 리스트를 세로 방향으로 늘어뜨린 2차원 리스트를 만들어야 함.\n",
        "- 2차원 리스트: 2*n 배열이 아닌 n*2 배열\n"
      ],
      "metadata": {
        "id": "pXhTqymzoO5c"
      }
    },
    {
      "cell_type": "code",
      "source": [
        "fish_data = []\n"
      ],
      "metadata": {
        "id": "aLkzCyVGo_j5"
      },
      "execution_count": null,
      "outputs": []
    },
    {
      "cell_type": "markdown",
      "source": [
        "2. 파이썬의 zip()함수와 리스트 내포(list comprehension) 구문을 사용\n",
        "- zip()함수: 나열된 리스트 각각에서 하나씩 원소를 꺼내 반환\n",
        "- 리스트 내포: for문과 if문을 한 라인에 작성하여 코드를 직관적으로 만들고 실행 속도를 높혀주는 파이썬에서 사용하는 기법\n",
        "  - 리스트 명 = [표현식 for 변수 in 반복 가능한 대상]"
      ],
      "metadata": {
        "id": "0pS7UXgRo__r"
      }
    },
    {
      "cell_type": "code",
      "source": [
        "kn.predict([[30,600],[31,601]])"
      ],
      "metadata": {
        "colab": {
          "base_uri": "https://localhost:8080/",
          "height": 184
        },
        "id": "lkx5fJvKsqWM",
        "outputId": "4960480f-7fb2-44bf-ff24-bebbdcdcba76"
      },
      "execution_count": 6,
      "outputs": [
        {
          "output_type": "error",
          "ename": "NameError",
          "evalue": "ignored",
          "traceback": [
            "\u001b[0;31m---------------------------------------------------------------------------\u001b[0m",
            "\u001b[0;31mNameError\u001b[0m                                 Traceback (most recent call last)",
            "\u001b[0;32m<ipython-input-6-2f830f0d4ff8>\u001b[0m in \u001b[0;36m<cell line: 1>\u001b[0;34m()\u001b[0m\n\u001b[0;32m----> 1\u001b[0;31m \u001b[0mkn\u001b[0m\u001b[0;34m.\u001b[0m\u001b[0mpredict\u001b[0m\u001b[0;34m(\u001b[0m\u001b[0;34m[\u001b[0m\u001b[0;34m[\u001b[0m\u001b[0;36m30\u001b[0m\u001b[0;34m,\u001b[0m\u001b[0;36m600\u001b[0m\u001b[0;34m]\u001b[0m\u001b[0;34m,\u001b[0m\u001b[0;34m[\u001b[0m\u001b[0;36m31\u001b[0m\u001b[0;34m,\u001b[0m\u001b[0;36m601\u001b[0m\u001b[0;34m]\u001b[0m\u001b[0;34m]\u001b[0m\u001b[0;34m)\u001b[0m\u001b[0;34m\u001b[0m\u001b[0;34m\u001b[0m\u001b[0m\n\u001b[0m",
            "\u001b[0;31mNameError\u001b[0m: name 'kn' is not defined"
          ]
        }
      ]
    },
    {
      "cell_type": "markdown",
      "source": [
        "n_neighbors를 기본값(5)을 사용하는 것만으로도 도미와 빙어를 완벽하게 분류할 수 있음.\n",
        "그러나 정확도가 100%인 k의 최대값은 얼마일까?"
      ],
      "metadata": {
        "id": "l8Zfvcn_sxpY"
      }
    },
    {
      "cell_type": "code",
      "source": [],
      "metadata": {
        "id": "A4Lmyyc0vdzC"
      },
      "execution_count": null,
      "outputs": []
    }
  ]
}