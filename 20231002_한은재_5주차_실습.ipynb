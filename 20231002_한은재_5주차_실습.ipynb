{
  "nbformat": 4,
  "nbformat_minor": 0,
  "metadata": {
    "colab": {
      "provenance": [],
      "toc_visible": true,
      "authorship_tag": "ABX9TyOvmuh+qZmswTH41ANDEZYD",
      "include_colab_link": true
    },
    "kernelspec": {
      "name": "python3",
      "display_name": "Python 3"
    },
    "language_info": {
      "name": "python"
    }
  },
  "cells": [
    {
      "cell_type": "markdown",
      "metadata": {
        "id": "view-in-github",
        "colab_type": "text"
      },
      "source": [
        "<a href=\"https://colab.research.google.com/github/EunjaeHan/data/blob/main/20231002_%ED%95%9C%EC%9D%80%EC%9E%AC_5%EC%A3%BC%EC%B0%A8_%EC%8B%A4%EC%8A%B5.ipynb\" target=\"_parent\"><img src=\"https://colab.research.google.com/assets/colab-badge.svg\" alt=\"Open In Colab\"/></a>"
      ]
    },
    {
      "cell_type": "code",
      "source": [
        "import pandas as pd\n",
        "from sklearn.model_selection import train_test_split, GridSearchCV\n",
        "from sklearn.tree import DecisionTreeClassifier\n",
        "from sklearn.ensemble import RandomForestClassifier, ExtraTreesClassifier, GradientBoostingClassifier, HistGradientBoostingClassifier\n",
        "from sklearn.metrics import accuracy_score\n",
        "\n",
        "# 데이터 불러오기\n",
        "url = \"https://archive.ics.uci.edu/ml/machine-learning-databases/wine-quality/winequality-white.csv\"\n",
        "data = pd.read_csv(url, sep=';')\n",
        "\n",
        "# 이진 분류를 위해 레이블 변환 (품질 6 이상을 1로, 그 외를 0으로)\n",
        "data['quality'] = data['quality'] >= 6\n",
        "data['quality'] = data['quality'].astype(int)\n",
        "\n",
        "# 특성과 레이블 분리\n",
        "X = data.drop('quality', axis=1)\n",
        "y = data['quality']\n",
        "\n",
        "# 데이터 분할\n",
        "X_train, X_test, y_train, y_test = train_test_split(X, y, test_size=0.2, random_state=42)\n",
        "\n",
        "# 모델 생성\n",
        "models = {\n",
        "    'Decision Tree': DecisionTreeClassifier(),\n",
        "    'Random Forest': RandomForestClassifier(),\n",
        "    'Extra Trees': ExtraTreesClassifier(),\n",
        "    'Gradient Boosting': GradientBoostingClassifier(),\n",
        "    'Histogram Gradient Boosting': HistGradientBoostingClassifier()\n",
        "}\n",
        "\n",
        "# 하이퍼파라미터 그리드 설정\n",
        "param_grids = {\n",
        "    'Decision Tree': {'max_depth': [None, 5, 10, 20], 'min_samples_split': [2, 5, 10]},\n",
        "    'Random Forest': {'n_estimators': [100, 200, 500], 'max_depth': [None, 10, 20], 'min_samples_split': [2, 5, 10]},\n",
        "    'Extra Trees': {'n_estimators': [100, 200, 500], 'max_depth': [None, 10, 20], 'min_samples_split': [2, 5, 10]},\n",
        "    'Gradient Boosting': {'n_estimators': [100, 200, 500], 'learning_rate': [0.01, 0.1, 0.5]},\n",
        "    'Histogram Gradient Boosting': {'max_iter': [100, 200, 500]}\n",
        "}\n",
        "\n",
        "# 모델 훈련 및 최적화\n",
        "for model_name, model in models.items():\n",
        "    param_grid = param_grids[model_name]\n",
        "    grid_search = GridSearchCV(model, param_grid, cv=5)\n",
        "    grid_search.fit(X_train, y_train)\n",
        "    best_model = grid_search.best_estimator_\n",
        "\n",
        "    # 모델 평가\n",
        "    y_pred = best_model.predict(X_test)\n",
        "    accuracy = accuracy_score(y_test, y_pred)\n",
        "\n",
        "    print(f\"Model: {model_name}\")\n",
        "    print(f\"Best Parameters: {grid_search.best_params_}\")\n",
        "    print(f\"Accuracy: {accuracy}\")\n"
      ],
      "metadata": {
        "colab": {
          "base_uri": "https://localhost:8080/"
        },
        "id": "Op0QSt2eBl_D",
        "outputId": "afb553ee-7c11-479e-8f6c-7d7930756fe0"
      },
      "execution_count": 4,
      "outputs": [
        {
          "output_type": "stream",
          "name": "stdout",
          "text": [
            "Model: Decision Tree\n",
            "Best Parameters: {'max_depth': None, 'min_samples_split': 2}\n",
            "Accuracy: 0.7928571428571428\n",
            "Model: Random Forest\n",
            "Best Parameters: {'max_depth': 20, 'min_samples_split': 2, 'n_estimators': 100}\n",
            "Accuracy: 0.8316326530612245\n",
            "Model: Extra Trees\n",
            "Best Parameters: {'max_depth': None, 'min_samples_split': 5, 'n_estimators': 200}\n",
            "Accuracy: 0.85\n",
            "Model: Gradient Boosting\n",
            "Best Parameters: {'learning_rate': 0.1, 'n_estimators': 500}\n",
            "Accuracy: 0.8020408163265306\n",
            "Model: Histogram Gradient Boosting\n",
            "Best Parameters: {'max_iter': 200}\n",
            "Accuracy: 0.8295918367346938\n"
          ]
        }
      ]
    }
  ]
}