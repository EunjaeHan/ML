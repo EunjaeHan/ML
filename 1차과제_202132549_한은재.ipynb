{
  "nbformat": 4,
  "nbformat_minor": 0,
  "metadata": {
    "colab": {
      "provenance": [],
      "authorship_tag": "ABX9TyNT4e/GRijf3Fh9/J+LbLkR",
      "include_colab_link": true
    },
    "kernelspec": {
      "name": "python3",
      "display_name": "Python 3"
    },
    "language_info": {
      "name": "python"
    }
  },
  "cells": [
    {
      "cell_type": "markdown",
      "metadata": {
        "id": "view-in-github",
        "colab_type": "text"
      },
      "source": [
        "<a href=\"https://colab.research.google.com/github/EunjaeHan/data/blob/main/1%EC%B0%A8%EA%B3%BC%EC%A0%9C_202132549_%ED%95%9C%EC%9D%80%EC%9E%AC.ipynb\" target=\"_parent\"><img src=\"https://colab.research.google.com/assets/colab-badge.svg\" alt=\"Open In Colab\"/></a>"
      ]
    },
    {
      "cell_type": "markdown",
      "source": [
        "###1. 필요한 라이브러리 및 패키지 불러오기"
      ],
      "metadata": {
        "id": "IJxjHrN6kor3"
      }
    },
    {
      "cell_type": "code",
      "source": [
        "import numpy as np\n",
        "import pandas as pd\n",
        "from sklearn.model_selection import train_test_split\n",
        "from sklearn.preprocessing import StandardScaler\n",
        "from sklearn.metrics import accuracy_score\n",
        "from sklearn.linear_model import SGDClassifier\n",
        "from sklearn.tree import DecisionTreeClassifier\n",
        "from sklearn.ensemble import RandomForestClassifier, HistGradientBoostingClassifier\n",
        "from sklearn.model_selection import GridSearchCV"
      ],
      "metadata": {
        "id": "Zuva2CRLkjIn"
      },
      "execution_count": 25,
      "outputs": []
    },
    {
      "cell_type": "markdown",
      "source": [
        "### 2. 데이터 불러오기"
      ],
      "metadata": {
        "id": "w8P86_niktCe"
      }
    },
    {
      "cell_type": "code",
      "source": [
        "from google.colab import drive\n",
        "drive.mount('/content/drive')"
      ],
      "metadata": {
        "colab": {
          "base_uri": "https://localhost:8080/"
        },
        "id": "fITOFzY_nEfq",
        "outputId": "f3e6559c-cd08-45e2-c846-ade0b466820f"
      },
      "execution_count": 37,
      "outputs": [
        {
          "output_type": "stream",
          "name": "stdout",
          "text": [
            "Drive already mounted at /content/drive; to attempt to forcibly remount, call drive.mount(\"/content/drive\", force_remount=True).\n"
          ]
        }
      ]
    },
    {
      "cell_type": "code",
      "source": [
        "titanic = pd.read_csv(\"/content/drive/MyDrive/Colab Notebooks/gender_submission.csv\")"
      ],
      "metadata": {
        "id": "rR2QbkIFo3HV"
      },
      "execution_count": 27,
      "outputs": []
    },
    {
      "cell_type": "markdown",
      "source": [
        "###3. 데이터 분할"
      ],
      "metadata": {
        "id": "IavXxZ1EniO1"
      }
    },
    {
      "cell_type": "code",
      "source": [
        "X_train, X_test, y_train, y_test = train_test_split(titanic.drop('Survived', axis=1), titanic['Survived'], test_size=0.2, random_state=202132549)"
      ],
      "metadata": {
        "id": "JAugUAU5oui1"
      },
      "execution_count": 32,
      "outputs": []
    },
    {
      "cell_type": "markdown",
      "source": [
        "###4. 모델 구축"
      ],
      "metadata": {
        "id": "hMN1pshmVz6S"
      }
    },
    {
      "cell_type": "code",
      "source": [
        "models = {\n",
        "    'SGD Classifier': SGDClassifier(),\n",
        "    'Decision Tree': DecisionTreeClassifier(),\n",
        "    'Random Forest': RandomForestClassifier(),\n",
        "    'HistGradientBoosting': HistGradientBoostingClassifier()\n",
        "}"
      ],
      "metadata": {
        "id": "o3rt1GiKWBsr"
      },
      "execution_count": 33,
      "outputs": []
    },
    {
      "cell_type": "markdown",
      "source": [
        "###5. 모델 훈련"
      ],
      "metadata": {
        "id": "yP1cfNfMWFx7"
      }
    },
    {
      "cell_type": "code",
      "source": [
        "for name, model in models.items():\n",
        "    model.fit(X_train, y_train)"
      ],
      "metadata": {
        "id": "Q7QreCvwWIhL"
      },
      "execution_count": 34,
      "outputs": []
    },
    {
      "cell_type": "markdown",
      "source": [
        "###6. 모델 최적화"
      ],
      "metadata": {
        "id": "YLm9yE2eWLoi"
      }
    },
    {
      "cell_type": "code",
      "source": [
        "param_grid = {\n",
        "    'SGD Classifier': {'alpha': [0.0001, 0.001, 0.01]},\n",
        "    'Decision Tree': {'max_depth': [None, 5, 10, 20], 'min_samples_split': [2, 5, 10]},\n",
        "    'Random Forest': {'n_estimators': [100, 200, 500], 'max_depth': [None, 10, 20], 'min_samples_split': [2, 5, 10]},\n",
        "    'HistGradientBoosting': {'max_iter': [100, 200, 500]}\n",
        "}"
      ],
      "metadata": {
        "id": "lxW1L3bkWRtb"
      },
      "execution_count": 35,
      "outputs": []
    },
    {
      "cell_type": "markdown",
      "source": [
        "###7. 모델 평가"
      ],
      "metadata": {
        "id": "_bLtJ8oyWPcb"
      }
    },
    {
      "cell_type": "code",
      "source": [
        "for name, model in models.items():\n",
        "    y_pred = model.predict(X_test)\n",
        "    accuracy = accuracy_score(y_test, y_pred)\n",
        "    report = classification_report(y_test, y_pred)\n",
        "    print(f\"Model: {name}\")\n",
        "    print(f\"Accuracy: {accuracy}\")\n",
        "    print(report)"
      ],
      "metadata": {
        "colab": {
          "base_uri": "https://localhost:8080/"
        },
        "id": "T2IjWKaPV-br",
        "outputId": "c0d79fdd-f8da-4134-b371-c221c2c839fb"
      },
      "execution_count": 36,
      "outputs": [
        {
          "output_type": "stream",
          "name": "stdout",
          "text": [
            "Model: SGD Classifier\n",
            "Accuracy: 0.6309523809523809\n",
            "              precision    recall  f1-score   support\n",
            "\n",
            "           0       0.63      1.00      0.77        53\n",
            "           1       0.00      0.00      0.00        31\n",
            "\n",
            "    accuracy                           0.63        84\n",
            "   macro avg       0.32      0.50      0.39        84\n",
            "weighted avg       0.40      0.63      0.49        84\n",
            "\n",
            "Model: Decision Tree\n",
            "Accuracy: 0.5119047619047619\n",
            "              precision    recall  f1-score   support\n",
            "\n",
            "           0       0.60      0.68      0.64        53\n",
            "           1       0.29      0.23      0.25        31\n",
            "\n",
            "    accuracy                           0.51        84\n",
            "   macro avg       0.45      0.45      0.45        84\n",
            "weighted avg       0.49      0.51      0.50        84\n",
            "\n",
            "Model: Random Forest\n",
            "Accuracy: 0.5119047619047619\n",
            "              precision    recall  f1-score   support\n",
            "\n",
            "           0       0.60      0.68      0.64        53\n",
            "           1       0.29      0.23      0.25        31\n",
            "\n",
            "    accuracy                           0.51        84\n",
            "   macro avg       0.45      0.45      0.45        84\n",
            "weighted avg       0.49      0.51      0.50        84\n",
            "\n",
            "Model: HistGradientBoosting\n",
            "Accuracy: 0.5952380952380952\n",
            "              precision    recall  f1-score   support\n",
            "\n",
            "           0       0.63      0.89      0.73        53\n",
            "           1       0.33      0.10      0.15        31\n",
            "\n",
            "    accuracy                           0.60        84\n",
            "   macro avg       0.48      0.49      0.44        84\n",
            "weighted avg       0.52      0.60      0.52        84\n",
            "\n"
          ]
        },
        {
          "output_type": "stream",
          "name": "stderr",
          "text": [
            "/usr/local/lib/python3.10/dist-packages/sklearn/metrics/_classification.py:1344: UndefinedMetricWarning: Precision and F-score are ill-defined and being set to 0.0 in labels with no predicted samples. Use `zero_division` parameter to control this behavior.\n",
            "  _warn_prf(average, modifier, msg_start, len(result))\n",
            "/usr/local/lib/python3.10/dist-packages/sklearn/metrics/_classification.py:1344: UndefinedMetricWarning: Precision and F-score are ill-defined and being set to 0.0 in labels with no predicted samples. Use `zero_division` parameter to control this behavior.\n",
            "  _warn_prf(average, modifier, msg_start, len(result))\n",
            "/usr/local/lib/python3.10/dist-packages/sklearn/metrics/_classification.py:1344: UndefinedMetricWarning: Precision and F-score are ill-defined and being set to 0.0 in labels with no predicted samples. Use `zero_division` parameter to control this behavior.\n",
            "  _warn_prf(average, modifier, msg_start, len(result))\n"
          ]
        }
      ]
    }
  ]
}